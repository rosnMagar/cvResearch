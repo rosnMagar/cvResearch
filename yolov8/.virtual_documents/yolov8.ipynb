from ultralytics import YOLO


model = YOLO('yolov8n.pt')


import roboflow


roboflow.login()

rf = roboflow.Roboflow()

project = rf.workspace("phillip-lavrador").project("70k-guns")
dataset = project.version(5).download("yolov8")


!yolo task=detect mode=train model=yolov8s.pt data=./{dataset.location}/data.yaml epochs=100 imgsz=640
